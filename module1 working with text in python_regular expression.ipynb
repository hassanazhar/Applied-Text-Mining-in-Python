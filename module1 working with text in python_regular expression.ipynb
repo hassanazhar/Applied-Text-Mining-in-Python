{
 "cells": [
  {
   "cell_type": "code",
   "execution_count": 9,
   "metadata": {},
   "outputs": [
    {
     "data": {
      "text/plain": [
       "['@UN', '@UN_Women']"
      ]
     },
     "execution_count": 9,
     "metadata": {},
     "output_type": "execute_result"
    }
   ],
   "source": [
    "# Regular Expressions\n",
    "# Processing free-text\n",
    "text10 = ' \"Ethics are built right into the ideals and objectives of United Nations\" #UNSG @ NY Society for Ethical Culture bit.ly/2guVelr @UN @UN_Women'\n",
    "text11 = text10.split(' ')\n",
    "\n",
    "# Finding specific words \n",
    "[w for w in text11 if w.startswith('#')] # hashtags\n",
    "[w for w in text11 if w.startswith('@')] # callouts ['@', '@UN', '@UN_Women']\n",
    "\n",
    "# Finding patterns with regular expressions\n",
    "import re\n",
    "[w for w in text11 if re.search('@[A-Za-z0-9_]+', w)] # ['@UN', '@UN_Women']\n",
    "\n",
    "# Parsing the callout regular expression\n",
    "# @ - starts with @\n",
    "# [ ] - followed by any alphabet (upper or lower case), digit, or underscore\n",
    "# + - that repeats at least once, but any number of times"
   ]
  },
  {
   "cell_type": "code",
   "execution_count": 10,
   "metadata": {},
   "outputs": [],
   "source": [
    "# Meta-characters: Character mathes \n",
    "# .      -  wildcard, matches a single character\n",
    "# ^      -  start of a string\n",
    "# $      -  end of a string\n",
    "# []     -  matches one of the set of characters within []\n",
    "# [a-z]  -  matches one of the range of characters a,b,...,z\n",
    "# [^abc] -  matches a character that is not a,b,or,c\n",
    "# a|b    -  matches either a or b, where a and b are strings\n",
    "# ()     -  scoping for operators \n",
    "# \\      -  escape character for special characters(\\t, \\n, \\b)\n",
    "\n",
    "# Meta-characters: Character symbols\n",
    "# \\b     -  mathes word boundary\n",
    "# \\d     -  any digit, equivalent to [0-9]\n",
    "# \\D     -  any non-digit, equivalent to [^0-9]\n",
    "# \\s     -  any whitespece, equivalent to [ \\t\\n\\r\\f\\v]\n",
    "# \\S     -  any non-whitespece, equivalent to [^ \\t\\n\\r\\f\\v]\n",
    "# \\w     -  alphanumeric character, equivalent to [a-zA-Z0-9_]\n",
    "# \\W     -  non-alphanumeric character, equivalent to [^a-zA-Z0-9_]\n",
    "\n",
    "# Meta-characters: Repetitions\n",
    "# *      -  matches zero or more occurences\n",
    "# +      -  matches one or more occurences\n",
    "# ?      -  matches zero or one occurences\n",
    "# {n}    -  exactly n repetitions, n>=0\n",
    "# {n,}   -  at least n repetitions\n",
    "# {,n}   -  at most n repetitions\n",
    "# {m,n}  -  at least m and at most n repetitions"
   ]
  },
  {
   "cell_type": "code",
   "execution_count": 18,
   "metadata": {},
   "outputs": [
    {
     "data": {
      "text/plain": [
       "['@UN', '@UN_Women']"
      ]
     },
     "execution_count": 18,
     "metadata": {},
     "output_type": "execute_result"
    }
   ],
   "source": [
    "# Recall the callout regular expression\n",
    "text10 = ' \"Ethics are built right into the ideals and objectives of United Nations\" #UNSG @ NY Society for Ethical Culture bit.ly/2guVelr @UN @UN_Women'\n",
    "text11 = text10.split(' ')\n",
    "\n",
    "[w for w in text11 if re.search('@[A-Za-z0-9_]+',w)]\n",
    "[w for w in text11 if re.search('@\\w+', w)]"
   ]
  }
 ],
 "metadata": {
  "kernelspec": {
   "display_name": "Python 2",
   "language": "python",
   "name": "python2"
  },
  "language_info": {
   "codemirror_mode": {
    "name": "ipython",
    "version": 2
   },
   "file_extension": ".py",
   "mimetype": "text/x-python",
   "name": "python",
   "nbconvert_exporter": "python",
   "pygments_lexer": "ipython2",
   "version": "2.7.14"
  }
 },
 "nbformat": 4,
 "nbformat_minor": 2
}
