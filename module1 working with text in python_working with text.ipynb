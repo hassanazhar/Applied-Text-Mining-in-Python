{
 "cells": [
  {
   "cell_type": "code",
   "execution_count": 2,
   "metadata": {},
   "outputs": [
    {
     "data": {
      "text/plain": [
       "['Ethics',\n",
       " 'are',\n",
       " 'built',\n",
       " 'right',\n",
       " 'into',\n",
       " 'the',\n",
       " 'ideals',\n",
       " 'and',\n",
       " 'objectives',\n",
       " 'of',\n",
       " 'the',\n",
       " 'United',\n",
       " 'Nations']"
      ]
     },
     "execution_count": 2,
     "metadata": {},
     "output_type": "execute_result"
    }
   ],
   "source": [
    "# Primitive constructs in Text\n",
    "# Sentences / input strings \n",
    "# Words or Tokens \n",
    "# Characters \n",
    "# Documents, large files \n",
    "\n",
    "text1 = 'Ethics are built right into the ideals and objectives of the United Nations'\n",
    "text2 = text1.split(' ') #return a list of words in text2, seperating by ' '. \n",
    "text2"
   ]
  },
  {
   "cell_type": "code",
   "execution_count": 4,
   "metadata": {},
   "outputs": [
    {
     "data": {
      "text/plain": [
       "{'be', 'not', 'or', 'to'}"
      ]
     },
     "execution_count": 4,
     "metadata": {},
     "output_type": "execute_result"
    }
   ],
   "source": [
    "# Finding specific words \n",
    "# Long words: words that are more than 3 letters long\n",
    "[w for w in text2 if len(w) > 3] # Words that are greater than 3 letters long in text2\n",
    "\n",
    "# Capitalized words \n",
    "[w for w in text2 if w.istitle()] # Capitalized words in text2\n",
    "\n",
    "# Words end with s \n",
    "[w for w in text2 if w.endswith('s')] # Words in text2 that end in 's'\n",
    "\n",
    "# Finding unique words: using set()\n",
    "text3 = 'To be or not to be'\n",
    "text4 = text3.split(' ')\n",
    "set(text4)\n",
    "set([w.lower() for w in text4]) # .lower converts the string to lowercase."
   ]
  },
  {
   "cell_type": "code",
   "execution_count": 6,
   "metadata": {},
   "outputs": [
    {
     "data": {
      "text/plain": [
       "['@UN', '@UN_Women']"
      ]
     },
     "execution_count": 6,
     "metadata": {},
     "output_type": "execute_result"
    }
   ],
   "source": [
    "# Some wrod comparison functions \n",
    "text7 = '@UN @UN_Women \"Ethics are built right into the ideals and objectives of the United Nations\" \\\n",
    "#UNSG @ NY Society for Ethical Culture bit.ly/2guVelr'\n",
    "text8 = text7.split(' ')\n",
    "\n",
    "[w for w in text8 if w.startswith('#')] \n",
    "[w for w in text8 if w.endswith('UNSG')]\n",
    "[w for w in text8 if w.isupper()] # Returns true if all characters in the string are uppercase\n",
    "[w for w in text8 if w.islower()] # Returns true if all characters in the string are lowercase\n",
    "[w for w in text8 if w.istitle()] \n",
    "[w for w in text8 if w.isalpha()] # Return true if all characters in the string are alphabetic \n",
    "[w for w in text8 if w.isdigit()] # Return true if all characters in the string are digits \n",
    "[w for w in text8 if w.isalnum()] # Return true if all characters in the string are alphanumeric\n",
    "\n",
    "import re\n",
    "[w for w in text8 if re.search('@[A-Za-z0-9_]+', w)] # Return all words that: a) start with '@' and followed by at least one: b1) capital letter ('A-Z'), b2) lowercase letter ('a-z'), b3) number ('0-9'), b4) underscore ('_').   "
   ]
  },
  {
   "cell_type": "code",
   "execution_count": 10,
   "metadata": {},
   "outputs": [
    {
     "data": {
      "text/plain": [
       "'A quick brown fox jumped over the lazy cat.'"
      ]
     },
     "execution_count": 10,
     "metadata": {},
     "output_type": "execute_result"
    }
   ],
   "source": [
    "# String Operations\n",
    "\n",
    "# s.lower(); s.upper() # Make the entire string to an uppercase or a lower case version\n",
    "# s.split(); s.splitlines() # Split a sentence on the newline character or end of line character -\\n\n",
    "# s.join()\n",
    "# s.strip(); s.rstrip() # Remove all the whitespace characters from the front of the string # Remove all the whitespace characters from the end of the string\n",
    "# s.split(); s.rsplit() # str.rsplit([separator [, maxsplit])\n",
    "# s.find(); s.rfind()\n",
    "# s.replace(u,v)\n",
    "\n",
    "# Cleaning text\n",
    "text8 = '  A quick brown fox jumped over the lazy dog.  '\n",
    "text8.split(' ') # Whitespaces \n",
    "text9 = text8.strip() # Remove all whiltespace characters\n",
    "text9\n",
    "\n",
    "# Changin the text\n",
    "text9.find('dog') # Return a character offset (e.g., 39) where it found the first 'dog'\n",
    "text9.replace('dog', 'cat')"
   ]
  },
  {
   "cell_type": "code",
   "execution_count": null,
   "metadata": {},
   "outputs": [],
   "source": [
    "# Handling larger texts \n",
    "# Reading files line by line\n",
    "f = open('123.txt','r')\n",
    "f.readline()\n",
    "f.readlines()\n",
    "\n",
    "# Reading the full file\n",
    "f.seek(0) # Reset the reading pointer\n",
    "text12 = f.read()\n",
    "text13 = text12.splitlines()\n",
    "text13[0] \n",
    "\n",
    "# File operations \n",
    "# f=open(filename,mode)\n",
    "# f.readline(); f.read(); f.read(n)\n",
    "# for line in f: doSomething(line)\n",
    "# f.seek()\n",
    "# f.write(message)\n",
    "# f.close()\n",
    "# f.closed()"
   ]
  }
 ],
 "metadata": {
  "kernelspec": {
   "display_name": "Python 2",
   "language": "python",
   "name": "python2"
  },
  "language_info": {
   "codemirror_mode": {
    "name": "ipython",
    "version": 2
   },
   "file_extension": ".py",
   "mimetype": "text/x-python",
   "name": "python",
   "nbconvert_exporter": "python",
   "pygments_lexer": "ipython2",
   "version": "2.7.14"
  }
 },
 "nbformat": 4,
 "nbformat_minor": 2
}
